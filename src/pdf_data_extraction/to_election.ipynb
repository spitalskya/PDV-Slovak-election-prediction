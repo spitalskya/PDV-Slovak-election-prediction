{
 "cells": [
  {
   "cell_type": "code",
   "execution_count": 42,
   "metadata": {},
   "outputs": [],
   "source": [
    "import pandas as pd\n",
    "from datetime import datetime"
   ]
  },
  {
   "cell_type": "code",
   "execution_count": 43,
   "metadata": {},
   "outputs": [],
   "source": [
    "data = pd.read_csv(\"focus.csv\")"
   ]
  },
  {
   "cell_type": "code",
   "execution_count": 44,
   "metadata": {},
   "outputs": [],
   "source": [
    "election_dates = [\n",
    "    datetime(year=2016, month=3, day=5),\n",
    "    datetime(year=2020, month=2, day=29),\n",
    "    datetime(year=2023, month=9, day=30),\n",
    "]\n",
    "slovak_months = {\n",
    "    \"januar\": 1,\n",
    "    \"februar\": 2,\n",
    "    \"marec\": 3,\n",
    "    \"april\": 4,\n",
    "    \"maj\": 5,\n",
    "    \"jun\": 6,\n",
    "    \"jul\": 7,\n",
    "    \"august\": 8,\n",
    "    \"september\": 9,\n",
    "    \"oktober\": 10,\n",
    "    \"november\": 11,\n",
    "    \"december\": 12,\n",
    "}"
   ]
  },
  {
   "cell_type": "code",
   "execution_count": 45,
   "metadata": {},
   "outputs": [],
   "source": [
    "\n",
    "datetimes = [\n",
    "    datetime(year=int(year), month=slovak_months[month], day=1)\n",
    "    for year, month in zip(data[\"year\"], data[\"month\"])\n",
    "]\n",
    "data[\"date\"] = datetimes\n",
    "del data[\"year\"]\n",
    "del data[\"month\"]"
   ]
  },
  {
   "cell_type": "code",
   "execution_count": 46,
   "metadata": {},
   "outputs": [],
   "source": [
    "def diff_month(d1, d2):\n",
    "    return (d1.year - d2.year) * 12 + d1.month - d2.month\n",
    "\n",
    "dates_to_elections = []\n",
    "for i in data[\"date\"]:\n",
    "    diffs = [j for j in map(lambda x: diff_month(x, i), election_dates) if j >= 0]\n",
    "\n",
    "    if diffs:\n",
    "        dates_to_elections.append(min(diffs))\n",
    "    else:\n",
    "        dates_to_elections.append(None)\n",
    "\n",
    "data[\"to_election\"] = dates_to_elections"
   ]
  },
  {
   "cell_type": "code",
   "execution_count": 47,
   "metadata": {},
   "outputs": [],
   "source": [
    "data.to_csv(\"focus_to_elections.csv\", index=False)"
   ]
  }
 ],
 "metadata": {
  "kernelspec": {
   "display_name": "nlp",
   "language": "python",
   "name": "python3"
  },
  "language_info": {
   "codemirror_mode": {
    "name": "ipython",
    "version": 3
   },
   "file_extension": ".py",
   "mimetype": "text/x-python",
   "name": "python",
   "nbconvert_exporter": "python",
   "pygments_lexer": "ipython3",
   "version": "3.11.10"
  }
 },
 "nbformat": 4,
 "nbformat_minor": 2
}
